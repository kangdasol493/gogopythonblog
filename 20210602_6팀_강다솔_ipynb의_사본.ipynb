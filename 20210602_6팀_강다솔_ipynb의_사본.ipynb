{
  "nbformat": 4,
  "nbformat_minor": 0,
  "metadata": {
    "colab": {
      "name": "20210602-6팀-강다솔.ipynb의 사본",
      "provenance": [],
      "collapsed_sections": [],
      "authorship_tag": "ABX9TyPS8ht7AQOp8sD35nvqw8DL",
      "include_colab_link": true
    },
    "kernelspec": {
      "name": "python3",
      "display_name": "Python 3"
    },
    "language_info": {
      "name": "python"
    }
  },
  "cells": [
    {
      "cell_type": "markdown",
      "metadata": {
        "id": "view-in-github",
        "colab_type": "text"
      },
      "source": [
        "<a href=\"https://colab.research.google.com/github/kangdasol493/gogopythonblog/blob/master/20210602_6%ED%8C%80_%EA%B0%95%EB%8B%A4%EC%86%94_ipynb%EC%9D%98_%EC%82%AC%EB%B3%B8.ipynb\" target=\"_parent\"><img src=\"https://colab.research.google.com/assets/colab-badge.svg\" alt=\"Open In Colab\"/></a>"
      ]
    },
    {
      "cell_type": "markdown",
      "metadata": {
        "id": "eET3oYX_Dis6"
      },
      "source": [
        "# 함수\n"
      ]
    },
    {
      "cell_type": "code",
      "metadata": {
        "colab": {
          "base_uri": "https://localhost:8080/"
        },
        "id": "F0ev-isn6zYy",
        "outputId": "7eaabed8-d309-46a1-a29b-348d188ef4bb"
      },
      "source": [
        "dir(__builtins__)"
      ],
      "execution_count": null,
      "outputs": [
        {
          "output_type": "execute_result",
          "data": {
            "text/plain": [
              "['ArithmeticError',\n",
              " 'AssertionError',\n",
              " 'AttributeError',\n",
              " 'BaseException',\n",
              " 'BlockingIOError',\n",
              " 'BrokenPipeError',\n",
              " 'BufferError',\n",
              " 'BytesWarning',\n",
              " 'ChildProcessError',\n",
              " 'ConnectionAbortedError',\n",
              " 'ConnectionError',\n",
              " 'ConnectionRefusedError',\n",
              " 'ConnectionResetError',\n",
              " 'DeprecationWarning',\n",
              " 'EOFError',\n",
              " 'Ellipsis',\n",
              " 'EnvironmentError',\n",
              " 'Exception',\n",
              " 'False',\n",
              " 'FileExistsError',\n",
              " 'FileNotFoundError',\n",
              " 'FloatingPointError',\n",
              " 'FutureWarning',\n",
              " 'GeneratorExit',\n",
              " 'IOError',\n",
              " 'ImportError',\n",
              " 'ImportWarning',\n",
              " 'IndentationError',\n",
              " 'IndexError',\n",
              " 'InterruptedError',\n",
              " 'IsADirectoryError',\n",
              " 'KeyError',\n",
              " 'KeyboardInterrupt',\n",
              " 'LookupError',\n",
              " 'MemoryError',\n",
              " 'ModuleNotFoundError',\n",
              " 'NameError',\n",
              " 'None',\n",
              " 'NotADirectoryError',\n",
              " 'NotImplemented',\n",
              " 'NotImplementedError',\n",
              " 'OSError',\n",
              " 'OverflowError',\n",
              " 'PendingDeprecationWarning',\n",
              " 'PermissionError',\n",
              " 'ProcessLookupError',\n",
              " 'RecursionError',\n",
              " 'ReferenceError',\n",
              " 'ResourceWarning',\n",
              " 'RuntimeError',\n",
              " 'RuntimeWarning',\n",
              " 'StopAsyncIteration',\n",
              " 'StopIteration',\n",
              " 'SyntaxError',\n",
              " 'SyntaxWarning',\n",
              " 'SystemError',\n",
              " 'SystemExit',\n",
              " 'TabError',\n",
              " 'TimeoutError',\n",
              " 'True',\n",
              " 'TypeError',\n",
              " 'UnboundLocalError',\n",
              " 'UnicodeDecodeError',\n",
              " 'UnicodeEncodeError',\n",
              " 'UnicodeError',\n",
              " 'UnicodeTranslateError',\n",
              " 'UnicodeWarning',\n",
              " 'UserWarning',\n",
              " 'ValueError',\n",
              " 'Warning',\n",
              " 'ZeroDivisionError',\n",
              " '__IPYTHON__',\n",
              " '__build_class__',\n",
              " '__debug__',\n",
              " '__doc__',\n",
              " '__import__',\n",
              " '__loader__',\n",
              " '__name__',\n",
              " '__package__',\n",
              " '__spec__',\n",
              " 'abs',\n",
              " 'all',\n",
              " 'any',\n",
              " 'ascii',\n",
              " 'bin',\n",
              " 'bool',\n",
              " 'breakpoint',\n",
              " 'bytearray',\n",
              " 'bytes',\n",
              " 'callable',\n",
              " 'chr',\n",
              " 'classmethod',\n",
              " 'compile',\n",
              " 'complex',\n",
              " 'copyright',\n",
              " 'credits',\n",
              " 'delattr',\n",
              " 'dict',\n",
              " 'dir',\n",
              " 'display',\n",
              " 'divmod',\n",
              " 'dreload',\n",
              " 'enumerate',\n",
              " 'eval',\n",
              " 'exec',\n",
              " 'execfile',\n",
              " 'filter',\n",
              " 'float',\n",
              " 'format',\n",
              " 'frozenset',\n",
              " 'get_ipython',\n",
              " 'getattr',\n",
              " 'globals',\n",
              " 'hasattr',\n",
              " 'hash',\n",
              " 'help',\n",
              " 'hex',\n",
              " 'id',\n",
              " 'input',\n",
              " 'int',\n",
              " 'isinstance',\n",
              " 'issubclass',\n",
              " 'iter',\n",
              " 'len',\n",
              " 'license',\n",
              " 'list',\n",
              " 'locals',\n",
              " 'map',\n",
              " 'max',\n",
              " 'memoryview',\n",
              " 'min',\n",
              " 'next',\n",
              " 'object',\n",
              " 'oct',\n",
              " 'open',\n",
              " 'ord',\n",
              " 'pow',\n",
              " 'print',\n",
              " 'property',\n",
              " 'range',\n",
              " 'repr',\n",
              " 'reversed',\n",
              " 'round',\n",
              " 'runfile',\n",
              " 'set',\n",
              " 'setattr',\n",
              " 'slice',\n",
              " 'sorted',\n",
              " 'staticmethod',\n",
              " 'str',\n",
              " 'sum',\n",
              " 'super',\n",
              " 'tuple',\n",
              " 'type',\n",
              " 'vars',\n",
              " 'zip']"
            ]
          },
          "metadata": {
            "tags": []
          },
          "execution_count": 1
        }
      ]
    },
    {
      "cell_type": "code",
      "metadata": {
        "colab": {
          "base_uri": "https://localhost:8080/"
        },
        "id": "LdPGyvp-891T",
        "outputId": "12471267-640d-4873-8fd4-636f78790a41"
      },
      "source": [
        "import calendar  # calendar 모듈 import\n",
        "print(calendar.month(2021,5)) # 달력 년월을 지정 출력"
      ],
      "execution_count": null,
      "outputs": [
        {
          "output_type": "stream",
          "text": [
            "      May 2021\n",
            "Mo Tu We Th Fr Sa Su\n",
            "                1  2\n",
            " 3  4  5  6  7  8  9\n",
            "10 11 12 13 14 15 16\n",
            "17 18 19 20 21 22 23\n",
            "24 25 26 27 28 29 30\n",
            "31\n",
            "\n"
          ],
          "name": "stdout"
        }
      ]
    },
    {
      "cell_type": "code",
      "metadata": {
        "id": "IGmGTjzy-Vzh"
      },
      "source": [
        "from calendar import"
      ],
      "execution_count": null,
      "outputs": []
    },
    {
      "cell_type": "code",
      "metadata": {
        "colab": {
          "base_uri": "https://localhost:8080/"
        },
        "id": "aBSQPMDq9dq8",
        "outputId": "ebb2523b-8fc9-4566-b8e6-7278d645ee9b"
      },
      "source": [
        "import datetime \n",
        "\n",
        "date1 = datetime.date.today()\n",
        "date2 = datetime.date(1994,12,23)\n",
        "print(date1-date2)"
      ],
      "execution_count": null,
      "outputs": [
        {
          "output_type": "stream",
          "text": [
            "9658 days, 0:00:00\n"
          ],
          "name": "stdout"
        }
      ]
    },
    {
      "cell_type": "code",
      "metadata": {
        "colab": {
          "base_uri": "https://localhost:8080/"
        },
        "id": "duPdm0qp-0NI",
        "outputId": "111adcd7-0665-4428-8c7b-d07b8fba6b5c"
      },
      "source": [
        "import random\n",
        "a = random.random() # Random float x, 0.0 <= x < 1.0\n",
        "\n",
        "#2개의 숫자 사이의 랜덤 실수를 리턴합니다.\n",
        "b = random.uniform(1, 10) # Random float x, 1.0 <= x < 10.0\n",
        "\n",
        "\n",
        "#2개의 숫자 사이의 랜덤 정수를 리턴합니다. (2번째 인자로 넘어온 정수도 범위에 포함시킴)\n",
        "c =random.randint(1, 10) # Integer from 1 to 10, endpoints included\n",
        "\n",
        "\n",
        "#range(start, stop, step) 함수로 만들어지는 정수 중에 하나를 랜덤하게 리턴합니다.\n",
        "d=random.randrange(0, 101, 2)  # Even integer from 0 to 100\n",
        "\n",
        "#choice() 함수 랜덤하게 하나의 원소를 선택합니다.\n",
        "e = random.choice('abcdefghij') # Choose a random element \n",
        "f = random.choice(['가위','바위','보'])\n",
        "\n",
        "a=['가위','바위','보']\n",
        "random.shuffle(a)\n",
        "print(a)\n",
        "\n",
        "print(a,b,c,d,e,f)"
      ],
      "execution_count": null,
      "outputs": [
        {
          "output_type": "stream",
          "text": [
            "['바위', '보', '가위']\n",
            "['바위', '보', '가위'] 9.83615143407867 5 88 a 가위\n"
          ],
          "name": "stdout"
        }
      ]
    },
    {
      "cell_type": "code",
      "metadata": {
        "colab": {
          "base_uri": "https://localhost:8080/"
        },
        "id": "35DJRgLwBKEQ",
        "outputId": "194259d4-542f-4064-d82a-bc886b801ea1"
      },
      "source": [
        "# 예제_환영 메시지 출력하기\n",
        "\n",
        "def say_hello():\n",
        "    print('안녕하세요!!')\n",
        "    print('파이썬의 세계에 오신 것을 환영합니다.')\n",
        "    print('즐거운 시간 되세요!!')\n",
        "    \n",
        "say_hello()"
      ],
      "execution_count": null,
      "outputs": [
        {
          "output_type": "stream",
          "text": [
            "안녕하세요!!\n",
            "파이썬의 세계에 오신 것을 환영합니다.\n",
            "즐거운 시간 되세요!!\n"
          ],
          "name": "stdout"
        }
      ]
    },
    {
      "cell_type": "code",
      "metadata": {
        "colab": {
          "base_uri": "https://localhost:8080/"
        },
        "id": "2Zvis0ZxCaq8",
        "outputId": "aa09975e-ec9d-4917-e7ba-1d62ce501e6f"
      },
      "source": [
        "#인수전달\n",
        "\n",
        "def say_hello(name):\n",
        "    print(f'안녕하세요, {name}님!!')\n",
        "    print('파이썬의 세계에 오신 것을 환영합니다.')\n",
        "    print('즐거운 시간 되세요!!')\n",
        "say_hello('강다솔')"
      ],
      "execution_count": null,
      "outputs": [
        {
          "output_type": "stream",
          "text": [
            "안녕하세요, 강다솔님!!\n",
            "파이썬의 세계에 오신 것을 환영합니다.\n",
            "즐거운 시간 되세요!!\n"
          ],
          "name": "stdout"
        }
      ]
    },
    {
      "cell_type": "code",
      "metadata": {
        "colab": {
          "base_uri": "https://localhost:8080/"
        },
        "id": "juPqpiKKCvQx",
        "outputId": "ac5fb487-c72d-4fa2-9fc5-5f9430cf56b2"
      },
      "source": [
        "# 원의 넓이\n",
        "\n",
        "def circle_area(radius):\n",
        "    area = 3.14 * radius ** 2\n",
        "    return area\n",
        "circle_area(5)"
      ],
      "execution_count": null,
      "outputs": [
        {
          "output_type": "execute_result",
          "data": {
            "text/plain": [
              "78.5"
            ]
          },
          "metadata": {
            "tags": []
          },
          "execution_count": 14
        }
      ]
    },
    {
      "cell_type": "code",
      "metadata": {
        "colab": {
          "base_uri": "https://localhost:8080/"
        },
        "id": "7er6_k6tHphs",
        "outputId": "99a735e3-f205-44c8-f636-860b7e67f06b"
      },
      "source": [
        "# 예제_두 수를 더하여 반환하는 함수 만들기\n",
        "\n",
        "def get_plus(num1,num2):\n",
        "    result = num1 + num2\n",
        "    return result\n",
        "    \n",
        "get_plus(1,2)"
      ],
      "execution_count": null,
      "outputs": [
        {
          "output_type": "execute_result",
          "data": {
            "text/plain": [
              "3"
            ]
          },
          "metadata": {
            "tags": []
          },
          "execution_count": 18
        }
      ]
    },
    {
      "cell_type": "code",
      "metadata": {
        "colab": {
          "base_uri": "https://localhost:8080/"
        },
        "id": "9M5X9dcWHvoN",
        "outputId": "948fd5fb-4adc-4574-c310-e1e6700ec93b"
      },
      "source": [
        "# 예제_두 수를 빼 반환하는 함수 만들기\n",
        "\n",
        "def get_minus(num1,num2):\n",
        "    result = num1 - num2\n",
        "    return result\n",
        "    \n",
        "get_minus(1,2)"
      ],
      "execution_count": null,
      "outputs": [
        {
          "output_type": "execute_result",
          "data": {
            "text/plain": [
              "-1"
            ]
          },
          "metadata": {
            "tags": []
          },
          "execution_count": 16
        }
      ]
    },
    {
      "cell_type": "code",
      "metadata": {
        "colab": {
          "base_uri": "https://localhost:8080/"
        },
        "id": "OEU59vEsH_hN",
        "outputId": "8094c873-ff03-467d-be99-c52f00d277a7"
      },
      "source": [
        "# 두수를 더한 값과 뺀 값을  반환\n",
        "\n",
        "def get_plus_minus(num1,num2):\n",
        "    plus = num1 + num2\n",
        "    minus = num1 - num2\n",
        "    return plus,minus\n",
        "    \n",
        "get_plus_minus(1,2)"
      ],
      "execution_count": null,
      "outputs": [
        {
          "output_type": "execute_result",
          "data": {
            "text/plain": [
              "(3, -1)"
            ]
          },
          "metadata": {
            "tags": []
          },
          "execution_count": 17
        }
      ]
    },
    {
      "cell_type": "code",
      "metadata": {
        "colab": {
          "base_uri": "https://localhost:8080/"
        },
        "id": "KPT3UcOSIDEB",
        "outputId": "f8a598f2-e963-411b-e2d6-3d2448fc940e"
      },
      "source": [
        "# 예제_두 수를 곱하여 반환하는 함수 만들기\n",
        "\n",
        "def get_multi(num1,num2):\n",
        "    result = num1 * num2\n",
        "    return result\n",
        "    \n",
        "get_multi(1,2)"
      ],
      "execution_count": null,
      "outputs": [
        {
          "output_type": "execute_result",
          "data": {
            "text/plain": [
              "2"
            ]
          },
          "metadata": {
            "tags": []
          },
          "execution_count": 20
        }
      ]
    },
    {
      "cell_type": "code",
      "metadata": {
        "colab": {
          "base_uri": "https://localhost:8080/"
        },
        "id": "m0vFSm1ZITJs",
        "outputId": "aa3eb9a3-c924-42f5-a98a-872ea7ae1d79"
      },
      "source": [
        "# 예제_두 수를 나누어 반환하는 함수 만들기\n",
        "\n",
        "def get_division(num1,num2):\n",
        "    result = num1 / num2\n",
        "    return result\n",
        "    \n",
        "get_division(1,2)"
      ],
      "execution_count": null,
      "outputs": [
        {
          "output_type": "execute_result",
          "data": {
            "text/plain": [
              "0.5"
            ]
          },
          "metadata": {
            "tags": []
          },
          "execution_count": 22
        }
      ]
    },
    {
      "cell_type": "code",
      "metadata": {
        "colab": {
          "base_uri": "https://localhost:8080/"
        },
        "id": "VJdSAGhcInSp",
        "outputId": "627e36e4-1c92-4edd-9582-3a520705125d"
      },
      "source": [
        "# 나누기는 0으로 나누는 게 불가능하다!!는 것도 넣어줌\n",
        "\n",
        "def get_plu_min_mul_div(num1,num2):\n",
        "    plu = num1 + num2\n",
        "    min = num1 - num2\n",
        "    mul = num1 * num2\n",
        "\n",
        "    if num2 == 0:\n",
        "        print('두 번째 변수에 다른 수를 입력하세요.')\n",
        "    else:\n",
        "        div = num1 / num2\n",
        "        return plu,min,mul,div\n",
        "    \n",
        "get_plu_min_mul_div(4,2)"
      ],
      "execution_count": null,
      "outputs": [
        {
          "output_type": "execute_result",
          "data": {
            "text/plain": [
              "(6, 2, 8, 2.0)"
            ]
          },
          "metadata": {
            "tags": []
          },
          "execution_count": 30
        }
      ]
    },
    {
      "cell_type": "code",
      "metadata": {
        "colab": {
          "base_uri": "https://localhost:8080/",
          "height": 208
        },
        "id": "j5oHodFmLto5",
        "outputId": "896c7465-9e0d-4271-c107-1f29709864ec"
      },
      "source": [
        "# 함수 내에서 생성한 변수를 '지역변수'\n",
        "# 함수 밖에서 생성한 변수를 '전역변수'라 한다.\n",
        "\n",
        "# 함수내 변수를 밖에서 사용 못함\n",
        "def get_plus_minus(num1,num2):\n",
        "    plus = num1 + num2\n",
        "    minus = num1 - num2\n",
        "    return plus,minus\n",
        "# get_plus_minus(1,2)\n",
        "print(plus,minus)   #오류"
      ],
      "execution_count": null,
      "outputs": [
        {
          "output_type": "error",
          "ename": "NameError",
          "evalue": "ignored",
          "traceback": [
            "\u001b[0;31m---------------------------------------------------------------------------\u001b[0m",
            "\u001b[0;31mNameError\u001b[0m                                 Traceback (most recent call last)",
            "\u001b[0;32m<ipython-input-31-0931eb978c32>\u001b[0m in \u001b[0;36m<module>\u001b[0;34m()\u001b[0m\n\u001b[1;32m      8\u001b[0m     \u001b[0;32mreturn\u001b[0m \u001b[0mplus\u001b[0m\u001b[0;34m,\u001b[0m\u001b[0mminus\u001b[0m\u001b[0;34m\u001b[0m\u001b[0;34m\u001b[0m\u001b[0m\n\u001b[1;32m      9\u001b[0m \u001b[0;31m# get_plus_minus(1,2)\u001b[0m\u001b[0;34m\u001b[0m\u001b[0;34m\u001b[0m\u001b[0;34m\u001b[0m\u001b[0m\n\u001b[0;32m---> 10\u001b[0;31m \u001b[0mprint\u001b[0m\u001b[0;34m(\u001b[0m\u001b[0mplus\u001b[0m\u001b[0;34m,\u001b[0m\u001b[0mminus\u001b[0m\u001b[0;34m)\u001b[0m\u001b[0;34m\u001b[0m\u001b[0;34m\u001b[0m\u001b[0m\n\u001b[0m",
            "\u001b[0;31mNameError\u001b[0m: name 'plus' is not defined"
          ]
        }
      ]
    },
    {
      "cell_type": "code",
      "metadata": {
        "colab": {
          "base_uri": "https://localhost:8080/"
        },
        "id": "8fMkTpxlMfUy",
        "outputId": "b06956fd-cb67-4165-dad8-f62ffe290181"
      },
      "source": [
        "# 전역변수 - 함수밖에서 생성\n",
        "def circle_area():\n",
        "    area = 3.14 * radius ** 2\n",
        "    return area\n",
        "radius = float(input('반지름:'))\n",
        "circle_area()"
      ],
      "execution_count": null,
      "outputs": [
        {
          "output_type": "stream",
          "text": [
            "반지름:5\n"
          ],
          "name": "stdout"
        },
        {
          "output_type": "execute_result",
          "data": {
            "text/plain": [
              "78.5"
            ]
          },
          "metadata": {
            "tags": []
          },
          "execution_count": 32
        }
      ]
    },
    {
      "cell_type": "markdown",
      "metadata": {
        "id": "pCXVgeyMM4fh"
      },
      "source": [
        "※ 함수 안에서 전역변수의 값을 변경하려면 global 키워드를 사용해야 한다."
      ]
    },
    {
      "cell_type": "code",
      "metadata": {
        "colab": {
          "base_uri": "https://localhost:8080/"
        },
        "id": "ljD08lyFMwif",
        "outputId": "17b204ee-dfd4-4226-b881-8c42bd637136"
      },
      "source": [
        "def circle_area():\n",
        "    area = 3.14 * radius ** 2\n",
        "    return area\n",
        "area = 0\n",
        "radius = float(input('반지름:'))\n",
        "print('원의 넓이:',circle_area())\n",
        "print(area) # 변경안됨"
      ],
      "execution_count": null,
      "outputs": [
        {
          "output_type": "stream",
          "text": [
            "반지름:5\n",
            "원의 넓이: 78.5\n",
            "0\n"
          ],
          "name": "stdout"
        }
      ]
    },
    {
      "cell_type": "code",
      "metadata": {
        "colab": {
          "base_uri": "https://localhost:8080/"
        },
        "id": "khcqRdVDNFgp",
        "outputId": "fbd27508-12da-4460-cdf3-c8d5c57082a9"
      },
      "source": [
        "def circle_area():\n",
        "    global area    # <- gloal 키워드 사용\n",
        "    area = 3.14 * radius ** 2\n",
        "    return area\n",
        "area = 0\n",
        "radius = float(input('반지름:'))\n",
        "print('원의 넓이:',circle_area())\n",
        "print(area) # 변경"
      ],
      "execution_count": null,
      "outputs": [
        {
          "output_type": "stream",
          "text": [
            "반지름:5\n",
            "원의 넓이: 78.5\n",
            "78.5\n"
          ],
          "name": "stdout"
        }
      ]
    },
    {
      "cell_type": "markdown",
      "metadata": {
        "id": "iDzTZoELPF81"
      },
      "source": [
        "디폴트 인수 > 인수가 부족한 경우, 기본값을 사용할 수 있다."
      ]
    },
    {
      "cell_type": "code",
      "metadata": {
        "colab": {
          "base_uri": "https://localhost:8080/"
        },
        "id": "DzL0Nld7PC8_",
        "outputId": "38ffe6c2-de2d-4db8-c491-eecafdda443c"
      },
      "source": [
        "def greet(name,msg):\n",
        "    print(f'안녕 {name},{msg}')\n",
        "greet('철수','좋은 아침이야')"
      ],
      "execution_count": null,
      "outputs": [
        {
          "output_type": "stream",
          "text": [
            "안녕 철수,좋은 아침이야\n"
          ],
          "name": "stdout"
        }
      ]
    },
    {
      "cell_type": "code",
      "metadata": {
        "colab": {
          "base_uri": "https://localhost:8080/",
          "height": 208
        },
        "id": "u3CSdG96PN6o",
        "outputId": "6e8116ea-5cc9-454a-c8af-420fe4968c3f"
      },
      "source": [
        "# greet() missing 1 required positional argument: 'msg'\n",
        "def greet(name,msg):\n",
        "    print(f'안녕 {name},{msg}')\n",
        "greet('철수')"
      ],
      "execution_count": null,
      "outputs": [
        {
          "output_type": "error",
          "ename": "TypeError",
          "evalue": "ignored",
          "traceback": [
            "\u001b[0;31m---------------------------------------------------------------------------\u001b[0m",
            "\u001b[0;31mTypeError\u001b[0m                                 Traceback (most recent call last)",
            "\u001b[0;32m<ipython-input-37-f03df1934f4c>\u001b[0m in \u001b[0;36m<module>\u001b[0;34m()\u001b[0m\n\u001b[1;32m      2\u001b[0m \u001b[0;32mdef\u001b[0m \u001b[0mgreet\u001b[0m\u001b[0;34m(\u001b[0m\u001b[0mname\u001b[0m\u001b[0;34m,\u001b[0m\u001b[0mmsg\u001b[0m\u001b[0;34m)\u001b[0m\u001b[0;34m:\u001b[0m\u001b[0;34m\u001b[0m\u001b[0;34m\u001b[0m\u001b[0m\n\u001b[1;32m      3\u001b[0m     \u001b[0mprint\u001b[0m\u001b[0;34m(\u001b[0m\u001b[0;34mf'안녕 {name},{msg}'\u001b[0m\u001b[0;34m)\u001b[0m\u001b[0;34m\u001b[0m\u001b[0;34m\u001b[0m\u001b[0m\n\u001b[0;32m----> 4\u001b[0;31m \u001b[0mgreet\u001b[0m\u001b[0;34m(\u001b[0m\u001b[0;34m'철수'\u001b[0m\u001b[0;34m)\u001b[0m\u001b[0;34m\u001b[0m\u001b[0;34m\u001b[0m\u001b[0m\n\u001b[0m",
            "\u001b[0;31mTypeError\u001b[0m: greet() missing 1 required positional argument: 'msg'"
          ]
        }
      ]
    },
    {
      "cell_type": "code",
      "metadata": {
        "colab": {
          "base_uri": "https://localhost:8080/"
        },
        "id": "mCx2CuqKPOMs",
        "outputId": "3f621a1d-9f3a-479f-9c5c-7ddc755ecd63"
      },
      "source": [
        "# 인수 부족 시 기본값 사용\n",
        "def greet(name='친구',msg='잘 지내니?'):\n",
        "    print(f'안녕 {name},{msg}')\n",
        "greet('영희','오랜만이야')"
      ],
      "execution_count": null,
      "outputs": [
        {
          "output_type": "stream",
          "text": [
            "안녕 영희,오랜만이야\n"
          ],
          "name": "stdout"
        }
      ]
    },
    {
      "cell_type": "code",
      "metadata": {
        "colab": {
          "base_uri": "https://localhost:8080/"
        },
        "id": "eEcgpIFkPU05",
        "outputId": "f6a889bf-b54e-4f0a-e5ea-738e6f8f44d2"
      },
      "source": [
        "# 인수 부족 시 기본값 사용\n",
        "def greet(name='친구',msg='잘 지내니?'):\n",
        "    print(f'안녕 {name},{msg}')\n",
        "greet('영희')"
      ],
      "execution_count": null,
      "outputs": [
        {
          "output_type": "stream",
          "text": [
            "안녕 영희,잘 지내니?\n"
          ],
          "name": "stdout"
        }
      ]
    },
    {
      "cell_type": "code",
      "metadata": {
        "colab": {
          "base_uri": "https://localhost:8080/"
        },
        "id": "YPW3e-74PYqF",
        "outputId": "74408e96-58a1-4b65-afc0-4f6b3dc46b02"
      },
      "source": [
        "# 인수 부족 시 기본값 사용\n",
        "def greet(name='친구',msg='잘 지내니?'):\n",
        "    print(f'안녕 {name},{msg}')\n",
        "greet()"
      ],
      "execution_count": null,
      "outputs": [
        {
          "output_type": "stream",
          "text": [
            "안녕 친구,잘 지내니?\n"
          ],
          "name": "stdout"
        }
      ]
    },
    {
      "cell_type": "markdown",
      "metadata": {
        "id": "WjaDHOGAQeXN"
      },
      "source": [
        "키워드 인수 > 위치 인수와 키워드 인수를 혼합해서 사용할 수 있지만, 위치인수를 먼저 사용해야 한다."
      ]
    },
    {
      "cell_type": "code",
      "metadata": {
        "colab": {
          "base_uri": "https://localhost:8080/"
        },
        "id": "WgS8k_R7QqRY",
        "outputId": "47bd3797-6cd5-4c1b-b6c0-1c2275cea59d"
      },
      "source": [
        "def calc(x,y,z):\n",
        "    result = x,y,z\n",
        "    return result\n",
        "calc(x=1,z=5,y=3)"
      ],
      "execution_count": null,
      "outputs": [
        {
          "output_type": "execute_result",
          "data": {
            "text/plain": [
              "(1, 3, 5)"
            ]
          },
          "metadata": {
            "tags": []
          },
          "execution_count": 41
        }
      ]
    },
    {
      "cell_type": "code",
      "metadata": {
        "id": "ejVdcWoXRlZ2"
      },
      "source": [
        "def calc(x,y,z):\n",
        "    result = x,y,z\n",
        "    return result\n",
        "calc(1,z=5,y=3) # 위치 인수를 먼저 사용"
      ],
      "execution_count": null,
      "outputs": []
    },
    {
      "cell_type": "code",
      "metadata": {
        "id": "wt7adtqeQqax"
      },
      "source": [
        "# positional argument follows keyword argument\n",
        "def calc(x,y,z):\n",
        "    result = x,y,z\n",
        "    return result\n",
        "calc(x=1,5,y=3) # 키워드 인수를 먼저 쓰면 에러!!!!!"
      ],
      "execution_count": null,
      "outputs": []
    },
    {
      "cell_type": "code",
      "metadata": {
        "id": "Qfz8phfwUKFY"
      },
      "source": [
        "# 오류는 아니고 순서를 변경해서 인수값을 지정해도 해당인수를\n",
        "def calc(x,y,z):\n",
        "    result = x,y,z\n",
        "    return result\n",
        "calc(x=1,z=5,y=3)"
      ],
      "execution_count": null,
      "outputs": []
    },
    {
      "cell_type": "markdown",
      "metadata": {
        "id": "n0_lATUsUpd0"
      },
      "source": [
        "# 매개변수 *args"
      ]
    },
    {
      "cell_type": "code",
      "metadata": {
        "colab": {
          "base_uri": "https://localhost:8080/"
        },
        "id": "ieCw-Z6pUuzs",
        "outputId": "dd69f8c5-0b87-433e-8311-e2964a9e6b83"
      },
      "source": [
        "# 매개변수 개수가 가변적일때 사용. \n",
        "def average(*args):\n",
        "    avrg1 = sum(args) /len(args)  #args는 튜플 데이터형\n",
        "    return avrg1\n",
        "\n",
        "print(average(1,2,3))      # 인수 3개\n",
        "print(average(1,2,3,4,5))  # 인수 5개"
      ],
      "execution_count": null,
      "outputs": [
        {
          "output_type": "stream",
          "text": [
            "2.0\n",
            "3.0\n"
          ],
          "name": "stdout"
        }
      ]
    },
    {
      "cell_type": "code",
      "metadata": {
        "colab": {
          "base_uri": "https://localhost:8080/"
        },
        "id": "6mSXZidHVshB",
        "outputId": "0c3b0dca-034c-43ac-b2c2-2b8b2fd86ec6"
      },
      "source": [
        "def average(*args):\n",
        "    print(args)\n",
        "    avrg1 = sum(args) / len(args)\n",
        "    return avrg1\n",
        "\n",
        "print(average(1,2,3))\n",
        "print(average(1,2,3,4,5))"
      ],
      "execution_count": null,
      "outputs": [
        {
          "output_type": "stream",
          "text": [
            "(1, 2, 3)\n",
            "2.0\n",
            "(1, 2, 3, 4, 5)\n",
            "3.0\n"
          ],
          "name": "stdout"
        }
      ]
    },
    {
      "cell_type": "code",
      "metadata": {
        "colab": {
          "base_uri": "https://localhost:8080/"
        },
        "id": "61rKmRNiU_Up",
        "outputId": "8f72dbaf-50da-4784-dde5-ac80bfab5e1d"
      },
      "source": [
        "# 예제_소수 여부 판단하기\n",
        "\n",
        "def is_prime(num):\n",
        "    #소수여부 판단하여 리턴\n",
        "    #소수:True, 소수아님:False\n",
        "    if num < 2:\n",
        "        return False\n",
        "\n",
        "    for i in range(2,num):\n",
        "        if num % i ==0:\n",
        "            return False\n",
        "    \n",
        "    return True\n",
        "\n",
        "input_num = int(input('숫자:'))\n",
        "if is_prime(input_num):\n",
        "    print('소수입니다.')\n",
        "else:\n",
        "    print('소수가 아닙니다.')"
      ],
      "execution_count": null,
      "outputs": [
        {
          "output_type": "stream",
          "text": [
            "숫자:89\n",
            "소수입니다.\n"
          ],
          "name": "stdout"
        }
      ]
    },
    {
      "cell_type": "code",
      "metadata": {
        "colab": {
          "base_uri": "https://localhost:8080/"
        },
        "id": "gmmDpqHrX5TZ",
        "outputId": "b2c28ec1-f757-4310-84e7-7c39febed5a9"
      },
      "source": [
        "# 예제_짝수 여부 판단하기\n",
        "\n",
        "def is_even(num):\n",
        "    # 짝수여부 판단하여 리턴\n",
        "    # 짝수:True, 짝수아님:False\n",
        "    if num % 2 == 0 :\n",
        "        return True\n",
        "    else:\n",
        "        return False\n",
        "\n",
        "input_num = int(input('숫자:'))\n",
        "if is_even(input_num):\n",
        "    print('짝수입니다.')\n",
        "else:\n",
        "    print('짝수가 아닙니다.')"
      ],
      "execution_count": null,
      "outputs": [
        {
          "output_type": "stream",
          "text": [
            "숫자:10\n",
            "짝수입니다.\n"
          ],
          "name": "stdout"
        }
      ]
    },
    {
      "cell_type": "code",
      "metadata": {
        "colab": {
          "base_uri": "https://localhost:8080/"
        },
        "id": "hGrVvx32dO4a",
        "outputId": "628f01cb-57f6-4d2e-e948-1794295cea6a"
      },
      "source": [
        "# 이예빈님 짝수 예제\n",
        "\n",
        "def even(num):\n",
        "    if num % 2 == 0:\n",
        "        print('짝수입니다.')\n",
        "    else:\n",
        "        print('홀수입니다.')\n",
        "input_num = int(input('수를 입력하세요: '))\n",
        "even(input_num)"
      ],
      "execution_count": null,
      "outputs": [
        {
          "output_type": "stream",
          "text": [
            "수를 입력하세요: 6\n",
            "짝수입니다.\n"
          ],
          "name": "stdout"
        }
      ]
    },
    {
      "cell_type": "code",
      "metadata": {
        "colab": {
          "base_uri": "https://localhost:8080/"
        },
        "id": "l7SnebX6gOms",
        "outputId": "35e9f7a4-54c1-49f0-ccef-3e982e8596af"
      },
      "source": [
        "# 예제_오늘의 메뉴\n",
        "\n",
        "def today_menu(*args):\n",
        "    for i in args:\n",
        "        print(i)\n",
        "\n",
        "print('== 오늘의 메뉴 ==')\n",
        "today_menu('김밥','떡볶이','튀김')\n"
      ],
      "execution_count": null,
      "outputs": [
        {
          "output_type": "stream",
          "text": [
            "== 오늘의 메뉴 ==\n",
            "김밥\n",
            "떡볶이\n",
            "튀김\n"
          ],
          "name": "stdout"
        }
      ]
    },
    {
      "cell_type": "code",
      "metadata": {
        "colab": {
          "base_uri": "https://localhost:8080/"
        },
        "id": "VL22EPCKlXP1",
        "outputId": "69c7126e-24c7-4b63-bca8-9970cbba38a5"
      },
      "source": [
        "def today_menu(*menu):\n",
        "    for i in range(len(menu)):\n",
        "        print(menu[i])\n",
        "\n",
        "print('== 오늘의 메뉴 ==')\n",
        "today_menu('김밥','떡볶이','튀김','순대')"
      ],
      "execution_count": null,
      "outputs": [
        {
          "output_type": "stream",
          "text": [
            "== 오늘의 메뉴 ==\n",
            "김밥\n",
            "떡볶이\n",
            "튀김\n",
            "순대\n"
          ],
          "name": "stdout"
        }
      ]
    },
    {
      "cell_type": "code",
      "metadata": {
        "colab": {
          "base_uri": "https://localhost:8080/"
        },
        "id": "P0KkHItdl8yD",
        "outputId": "3b72e870-1fcb-4770-ebf9-a917b98564a1"
      },
      "source": [
        "# lambda()함수 _한 줄로 간단하게 만들어주는 함수\n",
        "\n",
        "def plus(num1,num2):\n",
        "    result = num1 + num2\n",
        "    return result\n",
        "print(plus(10,20))\n",
        "\n",
        "plus = lambda num1,num2 : num1 + num2\n",
        "print(plus(10,20))"
      ],
      "execution_count": null,
      "outputs": [
        {
          "output_type": "stream",
          "text": [
            "30\n",
            "30\n"
          ],
          "name": "stdout"
        }
      ]
    },
    {
      "cell_type": "code",
      "metadata": {
        "colab": {
          "base_uri": "https://localhost:8080/"
        },
        "id": "lg2R7b8SnIfH",
        "outputId": "ccaa1450-96f9-40b1-f97c-c2d99e492577"
      },
      "source": [
        "# map()함수_두개의 인자를 갖는 함수로 순서가 있는 자료형에 사용\n",
        "# 첫번째 인자는 함수명, 두번째 인자는 순서가 있는 자료형\n",
        "\n",
        "mylist  = [1,2,3,4,5]\n",
        "plus10 = lambda num : num+10\n",
        "\n",
        "mylist = list(map(plus10,mylist))\n",
        "print(mylist)"
      ],
      "execution_count": null,
      "outputs": [
        {
          "output_type": "stream",
          "text": [
            "[11, 12, 13, 14, 15]\n"
          ],
          "name": "stdout"
        }
      ]
    },
    {
      "cell_type": "code",
      "metadata": {
        "colab": {
          "base_uri": "https://localhost:8080/"
        },
        "id": "3B-ALL8KoK28",
        "outputId": "b7fed88d-021f-449e-9dde-9ff19d493ae3"
      },
      "source": [
        "mylist  = ['나의아저씨','멜로가체질','로스쿨']\n",
        "pluslove = lambda drama : drama + ' 짱!!'\n",
        "\n",
        "mylist = list(map(pluslove,mylist))\n",
        "print(mylist)"
      ],
      "execution_count": null,
      "outputs": [
        {
          "output_type": "stream",
          "text": [
            "['나의아저씨 짱!!', '멜로가체질 짱!!', '로스쿨 짱!!']\n"
          ],
          "name": "stdout"
        }
      ]
    },
    {
      "cell_type": "markdown",
      "metadata": {
        "id": "6yZpEidDpFHu"
      },
      "source": [
        "재귀함수"
      ]
    },
    {
      "cell_type": "code",
      "metadata": {
        "colab": {
          "base_uri": "https://localhost:8080/"
        },
        "id": "dAesN6fzpCTS",
        "outputId": "266fd4e4-1538-40b6-92fd-3152e63c153d"
      },
      "source": [
        "# 함수 안에서 함수 자기자신을 호출하는 방식\n",
        "# 재귀호출은 일반적인 상황에서는 잘 사용하지 않지만 알고리즘을 구현할 때 매우 유용\n",
        "\n",
        "def hello(count):\n",
        "    if count == 0:     # 종료 조건을 만들어야함 count가 0이면 다시 호출하지 않고 끝냄\n",
        "        return\n",
        "\n",
        "    print('Hello, World!', count)\n",
        "\n",
        "    count -= 1     # count를 1 감소시킨 뒤\n",
        "    hello(count)   # 다시 hello에 넣음\n",
        "\n",
        "hello(3)   # hello 함수 호출"
      ],
      "execution_count": null,
      "outputs": [
        {
          "output_type": "stream",
          "text": [
            "Hello, World! 3\n",
            "Hello, World! 2\n",
            "Hello, World! 1\n"
          ],
          "name": "stdout"
        }
      ]
    },
    {
      "cell_type": "code",
      "metadata": {
        "colab": {
          "base_uri": "https://localhost:8080/",
          "height": 334
        },
        "id": "YCMUUTzHp_bJ",
        "outputId": "776caf77-d217-49e1-b704-b7f1f9012a81"
      },
      "source": [
        "def factorial(num):\n",
        "    if num == 1:     # 종료 조건을 만들어야함 count가 0이면 다시 호출하지 않고 끝냄\n",
        "        return 1\n",
        "    factorial=num*factorial(num-1)\n",
        "\n",
        "factorial(5)"
      ],
      "execution_count": null,
      "outputs": [
        {
          "output_type": "error",
          "ename": "UnboundLocalError",
          "evalue": "ignored",
          "traceback": [
            "\u001b[0;31m---------------------------------------------------------------------------\u001b[0m",
            "\u001b[0;31mUnboundLocalError\u001b[0m                         Traceback (most recent call last)",
            "\u001b[0;32m<ipython-input-119-43a2ec6de67f>\u001b[0m in \u001b[0;36m<module>\u001b[0;34m()\u001b[0m\n\u001b[1;32m      4\u001b[0m     \u001b[0mfactorial\u001b[0m\u001b[0;34m=\u001b[0m\u001b[0mnum\u001b[0m\u001b[0;34m*\u001b[0m\u001b[0mfactorial\u001b[0m\u001b[0;34m(\u001b[0m\u001b[0mnum\u001b[0m\u001b[0;34m-\u001b[0m\u001b[0;36m1\u001b[0m\u001b[0;34m)\u001b[0m\u001b[0;34m\u001b[0m\u001b[0;34m\u001b[0m\u001b[0m\n\u001b[1;32m      5\u001b[0m \u001b[0;34m\u001b[0m\u001b[0m\n\u001b[0;32m----> 6\u001b[0;31m \u001b[0mfactorial\u001b[0m\u001b[0;34m(\u001b[0m\u001b[0;36m5\u001b[0m\u001b[0;34m)\u001b[0m\u001b[0;34m\u001b[0m\u001b[0;34m\u001b[0m\u001b[0m\n\u001b[0m",
            "\u001b[0;32m<ipython-input-119-43a2ec6de67f>\u001b[0m in \u001b[0;36mfactorial\u001b[0;34m(num)\u001b[0m\n\u001b[1;32m      2\u001b[0m     \u001b[0;32mif\u001b[0m \u001b[0mnum\u001b[0m \u001b[0;34m==\u001b[0m \u001b[0;36m1\u001b[0m\u001b[0;34m:\u001b[0m     \u001b[0;31m# 종료 조건을 만들어야함 count가 0이면 다시 호출하지 않고 끝냄\u001b[0m\u001b[0;34m\u001b[0m\u001b[0;34m\u001b[0m\u001b[0m\n\u001b[1;32m      3\u001b[0m         \u001b[0;32mreturn\u001b[0m \u001b[0;36m1\u001b[0m\u001b[0;34m\u001b[0m\u001b[0;34m\u001b[0m\u001b[0m\n\u001b[0;32m----> 4\u001b[0;31m     \u001b[0mfactorial\u001b[0m\u001b[0;34m=\u001b[0m\u001b[0mnum\u001b[0m\u001b[0;34m*\u001b[0m\u001b[0mfactorial\u001b[0m\u001b[0;34m(\u001b[0m\u001b[0mnum\u001b[0m\u001b[0;34m-\u001b[0m\u001b[0;36m1\u001b[0m\u001b[0;34m)\u001b[0m\u001b[0;34m\u001b[0m\u001b[0;34m\u001b[0m\u001b[0m\n\u001b[0m\u001b[1;32m      5\u001b[0m \u001b[0;34m\u001b[0m\u001b[0m\n\u001b[1;32m      6\u001b[0m \u001b[0mfactorial\u001b[0m\u001b[0;34m(\u001b[0m\u001b[0;36m5\u001b[0m\u001b[0;34m)\u001b[0m\u001b[0;34m\u001b[0m\u001b[0;34m\u001b[0m\u001b[0m\n",
            "\u001b[0;31mUnboundLocalError\u001b[0m: local variable 'factorial' referenced before assignment"
          ]
        }
      ]
    },
    {
      "cell_type": "code",
      "metadata": {
        "colab": {
          "base_uri": "https://localhost:8080/"
        },
        "id": "JNes38k-q52I",
        "outputId": "4e635626-537c-42a8-bb26-2ad7636b574b"
      },
      "source": [
        "def factorial(num):\n",
        "    if num == 1:     # 종료 조건을 만들어야함 count가 0이면 다시 호출하지 않고 끝냄\n",
        "        return 1\n",
        "\n",
        "    print(num)\n",
        "    return num * factorial(num-1)\n",
        "\n",
        "print(factorial(5))"
      ],
      "execution_count": null,
      "outputs": [
        {
          "output_type": "stream",
          "text": [
            "5\n",
            "4\n",
            "3\n",
            "2\n",
            "120\n"
          ],
          "name": "stdout"
        }
      ]
    },
    {
      "cell_type": "markdown",
      "metadata": {
        "id": "SXK-CC6sYnBt"
      },
      "source": [
        "# 예제_편의점재고관리시스템"
      ]
    },
    {
      "cell_type": "code",
      "metadata": {
        "colab": {
          "base_uri": "https://localhost:8080/"
        },
        "id": "dBwQTncpsYl7",
        "outputId": "6f457693-e650-4569-a8f4-2a9c8312dc25"
      },
      "source": [
        "# 예제 _ 편의점 재고관리 시스템\n",
        "\n",
        "dict_prod = {'삼각김밥':5,'샌드위치':3,'초코우유':10,'커피우유':20}\n",
        "\n",
        "# 1.재고등록\n",
        "def register():\n",
        "    while True:\n",
        "        name=input('상품명:')\n",
        "        if name =='':\n",
        "            break\n",
        "        num=int(input('개수:'))\n",
        "        if name in dict_prod:\n",
        "            dict_prod[name] += num\n",
        "        else:\n",
        "            dict_prod[name] = num\n",
        "\n",
        "    print('-'*50)\n",
        "    for key, value in dict_prod.items():\n",
        "        print(f'{key} : {value}')\n",
        "\n",
        "# 2.제품판매\n",
        "def sell():\n",
        "    while True:\n",
        "        name=input('상품명:')\n",
        "        if name == '':\n",
        "            break\n",
        "\n",
        "        if name not in dict_prod:\n",
        "            print('상품명을 정확히 입력하세요.')\n",
        "        elif name in dict_prod:\n",
        "            num=int(input('개수:'))\n",
        "            if num > dict_prod[name]:\n",
        "                print('재고가 부족합니다.')\n",
        "            else:\n",
        "                dict_prod[name] -= num\n",
        "                print('-'*50)\n",
        "                print(f'{dict_prod[name]} 개 남았습니다.')\n",
        "\n",
        "# 3.재고확인\n",
        "def check():\n",
        "    while True:\n",
        "        name=input('상품명을 입력하세요(전체조회는\"전체상품\"):')\n",
        "        if name == '':\n",
        "            break\n",
        "\n",
        "        if name == '전체상품':\n",
        "            print('-'*50)\n",
        "            for key, value in dict_prod.items():\n",
        "                print(f'{key} : {value}')\n",
        "            break\n",
        "\n",
        "        if name not in dict_prod:\n",
        "            print('상품명을 정확히 입력하세요.')\n",
        "            \n",
        "        elif name in dict_prod:\n",
        "            print('-'*50)\n",
        "            print(f'{name} : {dict_prod.get(name)} 개')    # get[name]이라고 쓰면 오류난다!! 이유 한참 찾음..\n",
        "\n",
        "\n",
        "while True:\n",
        "    print('''\n",
        "    ===== 재고관리 시스템 =====\n",
        "    1:재고등록, 2:제품판매, 3:재고확인, 0:프로그램 종료\n",
        "    ''')\n",
        "\n",
        "    menu= input('메뉴를 선택하세요:')\n",
        "    if menu == '0':\n",
        "        break\n",
        "    elif menu == '1':\n",
        "        print('1:재고등록')\n",
        "        register()\n",
        "    elif menu == '2':\n",
        "        print('2:제품판매')\n",
        "        sell()\n",
        "    elif menu == '3':\n",
        "        print('3:재고확인')\n",
        "        check()\n"
      ],
      "execution_count": null,
      "outputs": [
        {
          "output_type": "stream",
          "text": [
            "\n",
            "    ===== 재고관리 시스템 =====\n",
            "    1:재고등록, 2:제품판매, 3:재고확인, 0:프로그램 종료\n",
            "    \n",
            "메뉴를 선택하세요:3\n",
            "3:재고확인\n",
            "상품명을 입력하세요(전체조회는\"전체상품\"):바나나우유\n",
            "상품명을 정확히 입력하세요.\n",
            "상품명을 입력하세요(전체조회는\"전체상품\"):초코우유\n",
            "--------------------------------------------------\n",
            "초코우유 : 10 개\n",
            "상품명을 입력하세요(전체조회는\"전체상품\"):삼각김밥\n",
            "--------------------------------------------------\n",
            "삼각김밥 : 5 개\n",
            "상품명을 입력하세요(전체조회는\"전체상품\"):전체상품\n",
            "--------------------------------------------------\n",
            "삼각김밥 : 5\n",
            "샌드위치 : 3\n",
            "초코우유 : 10\n",
            "커피우유 : 20\n",
            "\n",
            "    ===== 재고관리 시스템 =====\n",
            "    1:재고등록, 2:제품판매, 3:재고확인, 0:프로그램 종료\n",
            "    \n",
            "메뉴를 선택하세요:\n",
            "\n",
            "    ===== 재고관리 시스템 =====\n",
            "    1:재고등록, 2:제품판매, 3:재고확인, 0:프로그램 종료\n",
            "    \n",
            "메뉴를 선택하세요:0\n"
          ],
          "name": "stdout"
        }
      ]
    },
    {
      "cell_type": "code",
      "metadata": {
        "colab": {
          "base_uri": "https://localhost:8080/"
        },
        "id": "EJA5qpIi38sx",
        "outputId": "8e57abfa-cfab-46d2-c085-564ecce32525"
      },
      "source": [
        "# 예빈님 편의점재고 예제작성\n",
        "\n",
        "dict_menus = {}\n",
        "def registration(): # 1.재고등록\n",
        "    while True:\n",
        "        name = input('상품명:')\n",
        "        if name == '':\n",
        "            break\n",
        "        num = int(input('갯수:'))\n",
        "        if name in dict_menus:\n",
        "            dict_menus[name] += num\n",
        "        else:\n",
        "            dict_menus[name] = num\n",
        "    print('-------------------------------')\n",
        "    for key, value in dict_menus.items():\n",
        "        print(f'{key} : {value}')\n",
        "def sale(): # 2.제품판매\n",
        "    while True:\n",
        "        name = input('상품명:')\n",
        "        if name == '':\n",
        "            break\n",
        "        num = int(input('갯수:'))\n",
        "        if num>dict_menus[name]:\n",
        "            print('재고가 부족합니다.')\n",
        "        else:\n",
        "            dict_menus[name] -= num\n",
        "            print(f'{dict_menus[name]}개 남았습니다.')\n",
        "def check(): # 3.재고확인\n",
        "    for key, value in dict_menus.items():\n",
        "        print(f'{key} : {value}')\n",
        "while True:\n",
        "    print('''\n",
        "    ===== 재고관리 시스템 =====\n",
        "    1:재고등록, 2:제품판매, 3:재고확인, 0:프로그램 종료\n",
        "    ''')\n",
        "    menu = input('메뉴를 선택하세요:')\n",
        "    if menu=='0':\n",
        "        break\n",
        "    elif menu=='1':\n",
        "        registration()\n",
        "    elif menu=='2':\n",
        "        sale()\n",
        "    elif menu=='3':\n",
        "        check()"
      ],
      "execution_count": null,
      "outputs": [
        {
          "output_type": "stream",
          "text": [
            "\n",
            "    ===== 재고관리 시스템 =====\n",
            "    1:재고등록, 2:제품판매, 3:재고확인, 0:프로그램 종료\n",
            "    \n",
            "메뉴를 선택하세요:1\n",
            "상품명:바나나\n",
            "갯수:3\n",
            "상품명:\n",
            "-------------------------------\n",
            "바나나 : 3\n",
            "\n",
            "    ===== 재고관리 시스템 =====\n",
            "    1:재고등록, 2:제품판매, 3:재고확인, 0:프로그램 종료\n",
            "    \n",
            "메뉴를 선택하세요:2\n",
            "상품명:바나나\n",
            "갯수:3\n",
            "0개 남았습니다.\n",
            "상품명:\n",
            "\n",
            "    ===== 재고관리 시스템 =====\n",
            "    1:재고등록, 2:제품판매, 3:재고확인, 0:프로그램 종료\n",
            "    \n",
            "메뉴를 선택하세요:3\n",
            "바나나 : 0\n",
            "\n",
            "    ===== 재고관리 시스템 =====\n",
            "    1:재고등록, 2:제품판매, 3:재고확인, 0:프로그램 종료\n",
            "    \n",
            "메뉴를 선택하세요:0\n"
          ],
          "name": "stdout"
        }
      ]
    }
  ]
}